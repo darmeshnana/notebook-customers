{
 "cells": [
  {
   "cell_type": "code",
   "execution_count": 269,
   "id": "afb6f260-f3be-481f-8f5e-c1cecaff93ba",
   "metadata": {},
   "outputs": [
    {
     "data": {
      "text/plain": [
       "<pyspark.conf.SparkConf at 0x77514ff2fd10>"
      ]
     },
     "execution_count": 269,
     "metadata": {},
     "output_type": "execute_result"
    }
   ],
   "source": [
    "from pyspark.sql import SparkSession\n",
    "\n",
    "spark = SparkSession.builder.appName(\"stedin\") \\\n",
    "    .config(\"spark.sql.repl.eagerEval.enabled\", True) \\\n",
    "    .config(\"spark.jars.packages\", \"org.mongodb.spark:mongo-spark-connector_2.12:3.0.2,org.mariadb.jdbc:mariadb-java-client:3.0.3\") \\\n",
    "    .getOrCreate()\n",
    "\n",
    "from pyspark import SparkConf\n",
    "conf=SparkConf()\n",
    "conf.set(\"spark.driver.memory\", \"12g\") \n",
    "conf.set(\"spark.executor.memory\", \"12g\")\n"
   ]
  },
  {
   "cell_type": "code",
   "execution_count": 270,
   "id": "4f7d0f45-6939-4954-8ca7-9f00c9818aba",
   "metadata": {},
   "outputs": [
    {
     "name": "stdout",
     "output_type": "stream",
     "text": [
      "32291\n"
     ]
    }
   ],
   "source": [
    "# Projecten conversie\n",
    "from pyspark.sql.window import Window\n",
    "from pyspark.sql.functions import col, row_number\n",
    "\n",
    "# dfTaakToevProj = spark.read.format('csv').option('inferSchema', True).option('header', True).option('sep', ',').load('/home/jovyan/work/customers/consumenten_varianten/taak_toevoegen_projecten.csv')\n",
    "\n",
    "# dfTaakToevProj = spark.read.format('csv').option('inferSchema', True).option('header', True).option('sep', ',').load('/home/jovyan/work/customers/consumenten_varianten/taak_toevoegen_projecten-PEJ-17dec.csv')\n",
    "dfTaakToevProj = spark.read.format('csv').option('inferSchema', True).option('header', True).option('sep', ',').load('/home/jovyan/work/customers/consumenten_varianten/query_resultaat-AEJ_proef2.csv')\n",
    "\n",
    "# dfTaakToevProj = spark.read.format('csv').option('inferSchema', True).option('header', True).option('sep', ',').load('/home/jovyan/work/customers/consumenten_varianten/taak_toevoegen_projecten-AEJ.csv')\n",
    "# dfTaakToevProj = spark.read.format('csv').option('inferSchema', True).option('header', True).option('sep', ',').load('/home/jovyan/work/customers/consumenten_varianten/taak_toevoegen_projecten-proefconversie1.csv')\n",
    "\n",
    "dfTaakToevProj = dfTaakToevProj.withColumn(\"VARIANTID\", dfTaakToevProj.VARIANTID.cast('integer'))\n",
    "\n",
    "w3 = Window.partitionBy('VARIANTID', 'AUFNR').orderBy(col('VARIANTID'), col('AUFNR'), col('TAAK_VOLGORDE'))\n",
    "dfTaakToevProj = dfTaakToevProj.withColumn('row', row_number().over(w3) ) \\\n",
    "    .filter(col('row') == 1).drop('row') \\\n",
    "    .select('TAAK_TAAKID', 'TAAK_OMSCHRIJVING', 'AUFNR', 'VARIANTID') \\\n",
    "    .dropna() \\\n",
    "    .orderBy(['TAAK_TAAKID', 'AUFNR'])\n",
    "\n",
    "print(dfTaakToevProj.count())\n",
    "# print(dfTaakToevProj)\n",
    "# print(dfTaakToevProj.filter(col('AUFNR') == '101000181877'))"
   ]
  },
  {
   "cell_type": "code",
   "execution_count": 271,
   "id": "a8772d46-28f0-48eb-a4a7-bc51a32344ad",
   "metadata": {},
   "outputs": [],
   "source": [
    "# Projecten conversie resultaat download\n",
    "dfTaakToevProj.write.csv(path='/home/jovyan/work/customers/consumenten_varianten_res/conversie_projecten.csv', header='true', mode='overwrite', sep=',')"
   ]
  },
  {
   "cell_type": "code",
   "execution_count": 276,
   "id": "60c640a3-fd59-48ef-ac76-aea73d8a9427",
   "metadata": {},
   "outputs": [
    {
     "name": "stdout",
     "output_type": "stream",
     "text": [
      "+---------+-----------+-----------------+-----+-----+----+-------------+--------------+-------------+\n",
      "|VARIANTID|TAAK_TAAKID|TAAK_OMSCHRIJVING|AUFNR|MANDT|UUID|ATTRIBUTENAME|ATTRIBUTEVALUE|ATTRIBUTETEXT|\n",
      "+---------+-----------+-----------------+-----+-----+----+-------------+--------------+-------------+\n",
      "+---------+-----------+-----------------+-----+-----+----+-------------+--------------+-------------+\n",
      "\n"
     ]
    }
   ],
   "source": [
    "# Check genplan\n",
    "dfCVariant = spark.read.format('csv').option('inferSchema', True).option('header', True).option('sep', ',').load('/home/jovyan/work/customers/consumenten_varianten/ZPAM_C_VARIANT-PEJ.csv')\n",
    "dfCVariantGenplan = dfCVariant.filter(col('ATTRIBUTENAME') == 'IS_GENPLAN')\n",
    "\n",
    "dfTaakToevProjGenplan = dfTaakToevProj.join(dfCVariantGenplan, 'VARIANTID', \"inner\")\n",
    "dfTaakToevProjGenplan.show()\n",
    "\n",
    "## empty set betekend geen conversie zal worden geaan voor Genplan varianten"
   ]
  },
  {
   "cell_type": "code",
   "execution_count": null,
   "id": "99b3f7d0-ea8f-4544-9a17-78b488b9de6a",
   "metadata": {},
   "outputs": [],
   "source": []
  }
 ],
 "metadata": {
  "kernelspec": {
   "display_name": "Python 3 (ipykernel)",
   "language": "python",
   "name": "python3"
  },
  "language_info": {
   "codemirror_mode": {
    "name": "ipython",
    "version": 3
   },
   "file_extension": ".py",
   "mimetype": "text/x-python",
   "name": "python",
   "nbconvert_exporter": "python",
   "pygments_lexer": "ipython3",
   "version": "3.11.6"
  }
 },
 "nbformat": 4,
 "nbformat_minor": 5
}
