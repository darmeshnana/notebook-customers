{
 "cells": [
  {
   "cell_type": "code",
   "execution_count": null,
   "id": "afb6f260-f3be-481f-8f5e-c1cecaff93ba",
   "metadata": {},
   "outputs": [],
   "source": [
    "from pyspark.sql import SparkSession\n",
    "\n",
    "spark = SparkSession.builder.appName(\"stedin\") \\\n",
    "    .config(\"spark.sql.repl.eagerEval.enabled\", True) \\\n",
    "    .config(\"spark.jars.packages\", \"org.mongodb.spark:mongo-spark-connector_2.12:3.0.2,org.mariadb.jdbc:mariadb-java-client:3.0.3\") \\\n",
    "    .getOrCreate()\n",
    "\n",
    "from pyspark import SparkConf\n",
    "conf=SparkConf()\n",
    "conf.set(\"spark.driver.memory\", \"12g\") \n",
    "conf.set(\"spark.executor.memory\", \"12g\")\n"
   ]
  },
  {
   "cell_type": "code",
   "execution_count": 1,
   "id": "d1e2e658-3298-4542-b853-0214649fc857",
   "metadata": {},
   "outputs": [
    {
     "ename": "NameError",
     "evalue": "name 'spark' is not defined",
     "output_type": "error",
     "traceback": [
      "\u001b[0;31m---------------------------------------------------------------------------\u001b[0m",
      "\u001b[0;31mNameError\u001b[0m                                 Traceback (most recent call last)",
      "Cell \u001b[0;32mIn[1], line 3\u001b[0m\n\u001b[1;32m      1\u001b[0m \u001b[38;5;28;01mfrom\u001b[39;00m \u001b[38;5;21;01mpyspark\u001b[39;00m\u001b[38;5;21;01m.\u001b[39;00m\u001b[38;5;21;01msql\u001b[39;00m\u001b[38;5;21;01m.\u001b[39;00m\u001b[38;5;21;01mfunctions\u001b[39;00m \u001b[38;5;28;01mimport\u001b[39;00m desc, col, concat, lit\n\u001b[0;32m----> 3\u001b[0m dfPostcode \u001b[38;5;241m=\u001b[39m \u001b[43mspark\u001b[49m\u001b[38;5;241m.\u001b[39mread\u001b[38;5;241m.\u001b[39mformat(\u001b[38;5;124m'\u001b[39m\u001b[38;5;124mcsv\u001b[39m\u001b[38;5;124m'\u001b[39m)\u001b[38;5;241m.\u001b[39moption(\u001b[38;5;124m'\u001b[39m\u001b[38;5;124minferSchema\u001b[39m\u001b[38;5;124m'\u001b[39m, \u001b[38;5;28;01mTrue\u001b[39;00m)\u001b[38;5;241m.\u001b[39moption(\u001b[38;5;124m'\u001b[39m\u001b[38;5;124mheader\u001b[39m\u001b[38;5;124m'\u001b[39m, \u001b[38;5;28;01mTrue\u001b[39;00m)\u001b[38;5;241m.\u001b[39moption(\u001b[38;5;124m'\u001b[39m\u001b[38;5;124msep\u001b[39m\u001b[38;5;124m'\u001b[39m, \u001b[38;5;124m'\u001b[39m\u001b[38;5;124m;\u001b[39m\u001b[38;5;124m'\u001b[39m) \\\n\u001b[1;32m      4\u001b[0m     \u001b[38;5;241m.\u001b[39mload(\u001b[38;5;124m'\u001b[39m\u001b[38;5;124m/home/jovyan/work/customers/INC0325964-ZH.csv\u001b[39m\u001b[38;5;124m'\u001b[39m) \\\n\u001b[1;32m      5\u001b[0m     \u001b[38;5;241m.\u001b[39morderBy(\u001b[38;5;124m'\u001b[39m\u001b[38;5;124mpostcode\u001b[39m\u001b[38;5;124m'\u001b[39m)\n\u001b[1;32m      7\u001b[0m dfPostcode \u001b[38;5;241m=\u001b[39m dfPostcode\u001b[38;5;241m.\u001b[39mwithColumn(\u001b[38;5;124m'\u001b[39m\u001b[38;5;124mwhere\u001b[39m\u001b[38;5;124m'\u001b[39m, concat( lit(\u001b[38;5;124m\"\u001b[39m\u001b[38;5;124m'\u001b[39m\u001b[38;5;124m\"\u001b[39m), col(\u001b[38;5;124m'\u001b[39m\u001b[38;5;124mpostcode\u001b[39m\u001b[38;5;124m'\u001b[39m), lit(\u001b[38;5;124m\"\u001b[39m\u001b[38;5;124m'\u001b[39m\u001b[38;5;124m,\u001b[39m\u001b[38;5;124m\"\u001b[39m) ) )\n\u001b[1;32m      8\u001b[0m dfPostcode \u001b[38;5;241m=\u001b[39m dfPostcode\u001b[38;5;241m.\u001b[39mselect(\u001b[38;5;124m'\u001b[39m\u001b[38;5;124mpostcode\u001b[39m\u001b[38;5;124m'\u001b[39m, \u001b[38;5;124m'\u001b[39m\u001b[38;5;124mwhere\u001b[39m\u001b[38;5;124m'\u001b[39m)\n",
      "\u001b[0;31mNameError\u001b[0m: name 'spark' is not defined"
     ]
    }
   ],
   "source": [
    "from pyspark.sql.functions import desc, col, concat, lit\n",
    "\n",
    "dfPostcode = spark.read.format('csv').option('inferSchema', True).option('header', True).option('sep', ';') \\\n",
    "    .load('/home/jovyan/work/customers/INC0325964-ZH.csv') \\\n",
    "    .orderBy('postcode')\n",
    "\n",
    "dfPostcode = dfPostcode.withColumn('where', concat( lit(\"'\"), col('postcode'), lit(\"',\") ) )\n",
    "dfPostcode = dfPostcode.select('postcode', 'where')\n",
    "dfPostcode.show()\n",
    "\n",
    "dfPostcode.write.csv(path='/home/jovyan/work/customers/INC0325964-ZH-output.csv', header='true', mode='overwrite', sep=';')"
   ]
  },
  {
   "cell_type": "code",
   "execution_count": null,
   "id": "c6e3ce41-ca7b-4c69-8bef-ec718d685043",
   "metadata": {},
   "outputs": [],
   "source": [
    "\n",
    "dfPostcode = spark.read.format('csv').option('inferSchema', True).option('header', True).option('sep', ';') \\\n",
    "    .load('/home/jovyan/work/customers/projecten-binnen-postcode.csv') \\\n",
    "    .orderBy('POST_CODE1')\n",
    "# dfPostcode.show()\n",
    "\n",
    "dfPostcode.select('PRODUCT').distinct().orderBy('PRODUCT').show()\n"
   ]
  },
  {
   "cell_type": "code",
   "execution_count": null,
   "id": "cf717009-5e88-4d1c-9c70-1f0b6e3d014a",
   "metadata": {},
   "outputs": [],
   "source": [
    "\n",
    "dfAll = spark.read.format('csv').option('inferSchema', True).option('header', True).option('sep', ';') \\\n",
    "    .load('/home/jovyan/work/customers/projecten-buiten-postcode.csv') \\\n",
    "    .orderBy('POST_CODE1')\n",
    "# dfAll.show()\n",
    "\n",
    "print(dfAll.count())\n",
    "dfAll.select('PRODUCT').distinct().orderBy('PRODUCT').show(200)\n"
   ]
  }
 ],
 "metadata": {
  "kernelspec": {
   "display_name": "Python 3 (ipykernel)",
   "language": "python",
   "name": "python3"
  },
  "language_info": {
   "codemirror_mode": {
    "name": "ipython",
    "version": 3
   },
   "file_extension": ".py",
   "mimetype": "text/x-python",
   "name": "python",
   "nbconvert_exporter": "python",
   "pygments_lexer": "ipython3",
   "version": "3.11.6"
  }
 },
 "nbformat": 4,
 "nbformat_minor": 5
}
