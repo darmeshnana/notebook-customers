{
 "cells": [
  {
   "cell_type": "code",
   "execution_count": 73,
   "id": "d1e2e658-3298-4542-b853-0214649fc857",
   "metadata": {},
   "outputs": [
    {
     "name": "stdout",
     "output_type": "stream",
     "text": [
      "+--------+-------+\n",
      "|postcode|  where|\n",
      "+--------+-------+\n",
      "|    1230|'1230',|\n",
      "|    1231|'1231',|\n",
      "|    1232|'1232',|\n",
      "|    1233|'1233',|\n",
      "|    1234|'1234',|\n",
      "|    1235|'1235',|\n",
      "|    1236|'1236',|\n",
      "|    1237|'1237',|\n",
      "|    1238|'1238',|\n",
      "|    1239|'1239',|\n",
      "|    1240|'1240',|\n",
      "|    1241|'1241',|\n",
      "|    1242|'1242',|\n",
      "|    1243|'1243',|\n",
      "|    1244|'1244',|\n",
      "|    1245|'1245',|\n",
      "|    1246|'1246',|\n",
      "|    1247|'1247',|\n",
      "|    1248|'1248',|\n",
      "|    1249|'1249',|\n",
      "+--------+-------+\n",
      "only showing top 20 rows\n",
      "\n"
     ]
    }
   ],
   "source": [
    "from pyspark.sql.functions import desc, col, concat, lit\n",
    "\n",
    "dfPostcode = spark.read.format('csv').option('inferSchema', True).option('header', True).option('sep', ';') \\\n",
    "    .load('/home/jovyan/work/customers/INC0325964-ZH.csv') \\\n",
    "    .orderBy('postcode')\n",
    "\n",
    "dfPostcode = dfPostcode.withColumn('where', concat( lit(\"'\"), col('postcode'), lit(\"',\") ) )\n",
    "dfPostcode = dfPostcode.select('postcode', 'where')\n",
    "dfPostcode.show()\n",
    "\n",
    "dfPostcode.write.csv(path='/home/jovyan/work/customers/INC0325964-ZH-output.csv', header='true', mode='overwrite', sep=';')"
   ]
  },
  {
   "cell_type": "code",
   "execution_count": 81,
   "id": "c6e3ce41-ca7b-4c69-8bef-ec718d685043",
   "metadata": {},
   "outputs": [
    {
     "name": "stdout",
     "output_type": "stream",
     "text": [
      "+--------------------+\n",
      "|             PRODUCT|\n",
      "+--------------------+\n",
      "|               COMBI|\n",
      "|aanleg_laagbouw_g...|\n",
      "|aanleg_laagbouw_o...|\n",
      "|combi_laagbouw_groen|\n",
      "|combi_laagbouw_or...|\n",
      "|          combi_rood|\n",
      "|verplaatsen_laagb...|\n",
      "+--------------------+\n",
      "\n"
     ]
    }
   ],
   "source": [
    "dfPostcode = spark.read.format('csv').option('inferSchema', True).option('header', True).option('sep', ';') \\\n",
    "    .load('/home/jovyan/work/customers/projecten-binnen-postcode.csv') \\\n",
    "    .orderBy('POST_CODE1')\n",
    "# dfPostcode.show()\n",
    "\n",
    "dfPostcode.select('PRODUCT').distinct().orderBy('PRODUCT').show()\n"
   ]
  },
  {
   "cell_type": "code",
   "execution_count": 82,
   "id": "c9f554ae-a35d-4ea2-844f-4c9f989d2bae",
   "metadata": {},
   "outputs": [
    {
     "name": "stdout",
     "output_type": "stream",
     "text": [
      "+--------------------+\n",
      "|             PRODUCT|\n",
      "+--------------------+\n",
      "|                NULL|\n",
      "|              AANLEG|\n",
      "|               COMBI|\n",
      "|                 COR|\n",
      "|             GASLOOS|\n",
      "|          GROOTVERBR|\n",
      "|            LAADPAAL|\n",
      "|               SLOOP|\n",
      "|            TERUGLEV|\n",
      "|            VERLICHT|\n",
      "|           VERPLAATS|\n",
      "|            VERZWAAR|\n",
      "|aanleg_laagbouw_g...|\n",
      "|aanleg_laagbouw_o...|\n",
      "|aardgasloos_renov...|\n",
      "|aardgasloos_renov...|\n",
      "|aardgasloos_renov...|\n",
      "|aardgasloos_renov...|\n",
      "|aardgasloos_renov...|\n",
      "|aardgasloos_renov...|\n",
      "+--------------------+\n",
      "only showing top 20 rows\n",
      "\n"
     ]
    }
   ],
   "source": [
    "dfAll = spark.read.format('csv').option('inferSchema', True).option('header', True).option('sep', ';') \\\n",
    "    .load('/home/jovyan/work/customers/projecten-buiten-postcode.csv') \\\n",
    "    .orderBy('POST_CODE1')\n",
    "# dfAll.show()\n",
    "\n",
    "dfAll.select('PRODUCT').distinct().orderBy('PRODUCT').show(200)\n"
   ]
  },
  {
   "cell_type": "code",
   "execution_count": null,
   "id": "cf717009-5e88-4d1c-9c70-1f0b6e3d014a",
   "metadata": {},
   "outputs": [],
   "source": []
  }
 ],
 "metadata": {
  "kernelspec": {
   "display_name": "Python 3 (ipykernel)",
   "language": "python",
   "name": "python3"
  },
  "language_info": {
   "codemirror_mode": {
    "name": "ipython",
    "version": 3
   },
   "file_extension": ".py",
   "mimetype": "text/x-python",
   "name": "python",
   "nbconvert_exporter": "python",
   "pygments_lexer": "ipython3",
   "version": "3.11.6"
  }
 },
 "nbformat": 4,
 "nbformat_minor": 5
}
